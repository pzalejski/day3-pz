{
 "cells": [
  {
   "cell_type": "markdown",
   "metadata": {},
   "source": [
    "# Python Basics2.0 - Object-Oriented-Programming (OOP)"
   ]
  },
  {
   "cell_type": "markdown",
   "metadata": {},
   "source": [
    "## Tasks Today:\n",
    "\n",
    "1) <b>Creating a Class (Initializing/Declaring)</b> <br>\n",
    "2) <b>Using a Class (Instantiating)</b> <br>\n",
    " &nbsp;&nbsp;&nbsp;&nbsp; a) Creating One Instance <br>\n",
    " &nbsp;&nbsp;&nbsp;&nbsp; b) Creating Multiple Instances <br>\n",
    " &nbsp;&nbsp;&nbsp;&nbsp; c) In-Class Exercise #1 - Create a Class 'Car' and instantiate three different makes of cars <br>\n",
    "3) <b>The \\__init\\__() Method</b> <br>\n",
    " &nbsp;&nbsp;&nbsp;&nbsp; a) The 'self' Attribute <br>\n",
    "4) <b>Class Attributes</b> <br>\n",
    " &nbsp;&nbsp;&nbsp;&nbsp; a) Initializing Attributes <br>\n",
    " &nbsp;&nbsp;&nbsp;&nbsp; b) Setting an Attribute Outside of the \\__init\\__() Method <br>\n",
    " &nbsp;&nbsp;&nbsp;&nbsp; c) Setting Defaults for Attributes <br>\n",
    " &nbsp;&nbsp;&nbsp;&nbsp; d) Accessing Class Attributes <br>\n",
    " &nbsp;&nbsp;&nbsp;&nbsp; e) Changing Class Attributes <br>\n",
    " &nbsp;&nbsp;&nbsp;&nbsp; f) In-Class Exercise #2 - Add a color and wheels attribute to your 'Car' class <br>\n",
    "5) <b>Class Methods</b> <br>\n",
    " &nbsp;&nbsp;&nbsp;&nbsp; a) Creating <br>\n",
    " &nbsp;&nbsp;&nbsp;&nbsp; b) Calling <br>\n",
    " &nbsp;&nbsp;&nbsp;&nbsp; c) Modifying an Attribute's Value Through a Method <br>\n",
    " &nbsp;&nbsp;&nbsp;&nbsp; d) Incrementing an Attribute's Value Through a Method <br>\n",
    " &nbsp;&nbsp;&nbsp;&nbsp; e) In-Class Exercise #3 - Add a method that prints the cars color and wheel number, then call them <br>\n",
    "6) <b>Inheritance</b> <br>\n",
    " &nbsp;&nbsp;&nbsp;&nbsp; a) Syntax for Inheriting from a Parent Class <br>\n",
    " &nbsp;&nbsp;&nbsp;&nbsp; b) The \\__init\\__() Method for a Child Class (super()) <br>\n",
    " &nbsp;&nbsp;&nbsp;&nbsp; c) Defining Attributes and Methods for the Child Class <br>\n",
    " &nbsp;&nbsp;&nbsp;&nbsp; d) Method Overriding <br>\n",
    " &nbsp;&nbsp;&nbsp;&nbsp; e) In-Class Exercise #4 - Create a class 'Ford' that inherits from 'Car' class and initialize it as a Blue Ford Explorer with 4 wheels using the super() method <br>\n",
    "7) <b>Classes as Attributes</b> <br>\n",
    "8) <b>Exercises</b> <br>\n",
    " &nbsp;&nbsp;&nbsp;&nbsp; a) Exercise #1 - Turn the shopping cart program from yesterday into an object-oriented program <br>\n",
    " &nbsp;&nbsp;&nbsp;&nbsp; b) Exercise #2 - Create a ten by ten grid using a class called 'Grid'"
   ]
  },
  {
   "cell_type": "markdown",
   "metadata": {},
   "source": [
    "## Morning Challenge: <br>\n",
    "<p>Write a function that takes in an arbitrary number of arguments, and prints out only those that are strings. Skip over any that are not.</p>"
   ]
  },
  {
   "cell_type": "code",
   "execution_count": 4,
   "metadata": {},
   "outputs": [
    {
     "name": "stdout",
     "output_type": "stream",
     "text": [
      "mike\n",
      "sally\n"
     ]
    }
   ],
   "source": [
    "def isString(*args):\n",
    "    for arg in args:\n",
    "        if isinstance(arg,str):\n",
    "            print(arg)\n",
    "        else:\n",
    "            continue\n",
    "\n",
    "isString('mike',2,'sally')"
   ]
  },
  {
   "cell_type": "markdown",
   "metadata": {},
   "source": [
    "##### Creating a Class (Initializing/Declaring)\n",
    "<p>When creating a class, function, or even a variable you are initializing that object. Initializing and Declaring occur at the same time in Python, whereas in lower level languages you have to declare an object before initializing it. This is the first step in the process of using a class.</p>"
   ]
  },
  {
   "cell_type": "code",
   "execution_count": 6,
   "metadata": {},
   "outputs": [],
   "source": [
    "class Car():\n",
    "    wheels = 4\n",
    "    color = \"blue\"\n",
    "    "
   ]
  },
  {
   "cell_type": "markdown",
   "metadata": {},
   "source": [
    "## Using a Class (Instantiating)\n",
    "<p>The process of creating a class is called <i>Instantiating</i>. Each time you create a variable of that type of class, it is referred to as an <i>Instance</i> of that class. This is the second step in the process of using a class.</p>"
   ]
  },
  {
   "cell_type": "markdown",
   "metadata": {},
   "source": [
    "##### Creating One Instance"
   ]
  },
  {
   "cell_type": "code",
   "execution_count": 7,
   "metadata": {},
   "outputs": [],
   "source": [
    "ford = Car()\n",
    "\n",
    "ford.wheels"
   ]
  },
  {
   "cell_type": "markdown",
   "metadata": {},
   "source": [
    "##### Creating Multiple Instances"
   ]
  },
  {
   "cell_type": "code",
   "execution_count": 8,
   "metadata": {},
   "outputs": [
    {
     "data": {
      "text/plain": [
       "'blue'"
      ]
     },
     "execution_count": 8,
     "metadata": {},
     "output_type": "execute_result"
    }
   ],
   "source": [
    "chevy = Car()\n",
    "honda = Car()\n",
    "vw = Car()\n",
    "\n",
    "vw.color"
   ]
  },
  {
   "cell_type": "markdown",
   "metadata": {},
   "source": [
    "##### In-Class Exercise #1 - Create a Class 'Car' and Instantiate three different makes of cars"
   ]
  },
  {
   "cell_type": "code",
   "execution_count": 10,
   "metadata": {},
   "outputs": [
    {
     "data": {
      "text/plain": [
       "'SUV'"
      ]
     },
     "execution_count": 10,
     "metadata": {},
     "output_type": "execute_result"
    }
   ],
   "source": [
    "class New_Car():\n",
    "    doors = 4\n",
    "    cartype = 'SUV'\n",
    "    color = \"Black\"\n",
    "    \n",
    "toyota = New_Car()\n",
    "range_rover = New_Car()\n",
    "jeep = New_Car()\n",
    "\n",
    "jeep.color\n",
    "range_rover.cartype"
   ]
  },
  {
   "cell_type": "markdown",
   "metadata": {},
   "source": [
    "## The \\__init\\__() Method <br>\n",
    "<p>This method is used in almost every created class, and called only once upon the creation of the class instance. This method will initialize all variables needed for the object.</p>"
   ]
  },
  {
   "cell_type": "code",
   "execution_count": 17,
   "metadata": {},
   "outputs": [
    {
     "data": {
      "text/plain": [
       "False"
      ]
     },
     "execution_count": 17,
     "metadata": {},
     "output_type": "execute_result"
    }
   ],
   "source": [
    "# some other languages may be called the constructor\n",
    "\n",
    "class Car3():\n",
    "    engine = '4.7L'\n",
    "    \n",
    "    def __init__(self,color,wheels): # init tells you what arguements are needed for your class\n",
    "        self.wheels = wheels\n",
    "        self.color = color\n",
    "        \n",
    "\n",
    "ford = Car3('red',4)\n",
    "ford.color\n",
    "\n",
    "\n",
    "class Toy():\n",
    "    kind = 'car'\n",
    "    \n",
    "    def __init__(self, rooftop, horn, wheels, bells,doors, *args):\n",
    "        self.rooftop = rooftop\n",
    "        self.horn = horn\n",
    "        self.wheels = wheels\n",
    "        self.bells = bells\n",
    "        self.doors = doors\n",
    "        self.args  = dict(args) # this will allow you to pass every arguement as a 2 element tuple\n",
    "        \n",
    "\n",
    "hotwheel = Toy(False,True,6,0,4, ('Name','Red Rover'),('Fancy',False))\n",
    "\n",
    "hotwheel.rooftop\n",
    "hotwheel.horn\n",
    "hotwheel.args['Name']\n",
    "hotwheel.args['Fancy']"
   ]
  },
  {
   "cell_type": "markdown",
   "metadata": {},
   "source": [
    "##### The 'self' Attribute <br>\n",
    "<p>This attribute is required to keep track of specific instance's attributes. Without the self attribute, the program would not know how to reference or keep track of an instance's attributes.</p>"
   ]
  },
  {
   "cell_type": "code",
   "execution_count": null,
   "metadata": {},
   "outputs": [],
   "source": [
    "# see above"
   ]
  },
  {
   "cell_type": "markdown",
   "metadata": {},
   "source": [
    "## Class Attributes <br>\n",
    "<p>While variables are inside of a class, they are referred to as attributes and not variables. When someone says 'attribute' you know they're speaking about a class. Attributes can be initialized through the init method, or outside of it.</p>"
   ]
  },
  {
   "cell_type": "markdown",
   "metadata": {},
   "source": [
    "##### Initializing Attributes"
   ]
  },
  {
   "cell_type": "code",
   "execution_count": null,
   "metadata": {},
   "outputs": [],
   "source": [
    "# see above"
   ]
  },
  {
   "cell_type": "markdown",
   "metadata": {},
   "source": [
    "##### Accessing Class Attributes"
   ]
  },
  {
   "cell_type": "code",
   "execution_count": 18,
   "metadata": {
    "scrolled": true
   },
   "outputs": [
    {
     "data": {
      "text/plain": [
       "'4.7L'"
      ]
     },
     "execution_count": 18,
     "metadata": {},
     "output_type": "execute_result"
    }
   ],
   "source": [
    "class Car():\n",
    "    engine = '4.7L' #called an attribute insted of variable when inside class\n",
    "\n",
    "ford = Car()\n",
    "ford.engine"
   ]
  },
  {
   "cell_type": "markdown",
   "metadata": {},
   "source": [
    "##### Setting an Attribute Outside of the \\__init\\__() Method"
   ]
  },
  {
   "cell_type": "code",
   "execution_count": null,
   "metadata": {},
   "outputs": [],
   "source": [
    "# see above "
   ]
  },
  {
   "cell_type": "markdown",
   "metadata": {},
   "source": [
    "##### Setting Defaults for Attributes"
   ]
  },
  {
   "cell_type": "code",
   "execution_count": 23,
   "metadata": {},
   "outputs": [
    {
     "name": "stdout",
     "output_type": "stream",
     "text": [
      "False\n",
      "Oat\n"
     ]
    }
   ],
   "source": [
    "class Yogurt():\n",
    "    \n",
    "    #default attribute\n",
    "    smell = 'sweet'\n",
    "    \n",
    "    def __init__(self):\n",
    "        #defaults for attributes within __init__\n",
    "        self.color = 'white'\n",
    "        self.fruit = 'blueberry'\n",
    "        self.granola = False\n",
    "        self.taste = 'mediocre'\n",
    "        \n",
    "chobani = Yogurt()\n",
    "print(chobani.granola)\n",
    "chobani.granola = 'Oat' # allows me to change the default to something else\n",
    "print(chobani.granola)"
   ]
  },
  {
   "cell_type": "markdown",
   "metadata": {},
   "source": [
    "##### Changing Class Attributes <br>\n",
    "<p>Keep in mind there are global class attributes and then there are attributes only available to each class instance which won't effect other classes.</p>"
   ]
  },
  {
   "cell_type": "code",
   "execution_count": null,
   "metadata": {},
   "outputs": [],
   "source": [
    "# see above"
   ]
  },
  {
   "cell_type": "code",
   "execution_count": null,
   "metadata": {},
   "outputs": [],
   "source": []
  },
  {
   "cell_type": "markdown",
   "metadata": {},
   "source": [
    "##### In-Class Exercise #2 - Add a doors and seats attribute to your 'Car' class then print out two different instances with different doors and seats"
   ]
  },
  {
   "cell_type": "code",
   "execution_count": 27,
   "metadata": {},
   "outputs": [
    {
     "name": "stdout",
     "output_type": "stream",
     "text": [
      "Hyundai doors: 4\n",
      "Hyundai seats: 5\n",
      "Corvette doors: 2\n",
      "Corvette seats: 2\n"
     ]
    }
   ],
   "source": [
    "class Car():\n",
    "    \n",
    "    def __init__(self):\n",
    "        self.doors = 4\n",
    "        self.seats = 5\n",
    "        \n",
    "hyundai = Car()\n",
    "print(f\"Hyundai doors: {hyundai.doors}\")\n",
    "print(F\"Hyundai seats: {hyundai.seats}\")\n",
    "\n",
    "corvette = Car()\n",
    "corvette.doors = 2\n",
    "corvette.seats = 2\n",
    "print(f\"Corvette doors: {corvette.doors}\")\n",
    "print(f\"Corvette seats: {corvette.seats}\")\n",
    "\n",
    "    "
   ]
  },
  {
   "cell_type": "markdown",
   "metadata": {},
   "source": [
    "## Class Methods <br>\n",
    "<p>While inside of a class, functions are referred to as 'methods'. If you hear someone mention methods, they're speaking about classes. Methods are essentially functions, but only callable on the instances of a class.</p>"
   ]
  },
  {
   "cell_type": "markdown",
   "metadata": {},
   "source": [
    "##### Creating"
   ]
  },
  {
   "cell_type": "code",
   "execution_count": 9,
   "metadata": {},
   "outputs": [],
   "source": [
    "class ShoppingBag():\n",
    "    def __init__(self, handles, capacity, items): # we can paramaters to be empty lits, dictionaries, tuples etc\n",
    "        self.handles = handles\n",
    "        self.capacity = capacity\n",
    "        self.items = items\n",
    "        \n",
    "    #show shopping bag\n",
    "    def show_shopping_bag(self):\n",
    "        for i in self.items:\n",
    "            print(i)\n",
    "    \n",
    "    #show bag capacity\n",
    "    def show_capacity(self):\n",
    "        print(f\"capacity is: {self.capacity}\")\n",
    "    \n",
    "    #add items to bag\n",
    "    def add_to_bag(self):\n",
    "        products = input(\"What do you want to add? : \")\n",
    "        self.items.append(products)\n",
    "        \n",
    "    #change capacity    \n",
    "    def change_capacity(self,capacity):\n",
    "        self.capacity = capacity\n",
    "        \n",
    "    #add capacity    \n",
    "    def add_capacity(self):\n",
    "        self.capacity += 10\n",
    "\n"
   ]
  },
  {
   "cell_type": "markdown",
   "metadata": {},
   "source": [
    "##### Calling"
   ]
  },
  {
   "cell_type": "code",
   "execution_count": 11,
   "metadata": {},
   "outputs": [
    {
     "name": "stdout",
     "output_type": "stream",
     "text": [
      "What do you want to add? : milk\n",
      "milk\n"
     ]
    }
   ],
   "source": [
    "whole_foods_bag = ShoppingBag(2, 5, [])\n",
    "whole_foods_bag.add_to_bag()\n",
    "whole_foods_bag.show_shopping_bag()"
   ]
  },
  {
   "cell_type": "markdown",
   "metadata": {},
   "source": [
    "##### Modifying an Attribute's Value Through a Method"
   ]
  },
  {
   "cell_type": "code",
   "execution_count": 14,
   "metadata": {},
   "outputs": [
    {
     "data": {
      "text/plain": [
       "30"
      ]
     },
     "execution_count": 14,
     "metadata": {},
     "output_type": "execute_result"
    }
   ],
   "source": [
    "whole_foods_bag.change_capacity(30)\n",
    "whole_foods_bag.capacity"
   ]
  },
  {
   "cell_type": "markdown",
   "metadata": {},
   "source": [
    "##### Incrementing an Attribute's Value Through a Method"
   ]
  },
  {
   "cell_type": "code",
   "execution_count": 15,
   "metadata": {},
   "outputs": [
    {
     "data": {
      "text/plain": [
       "40"
      ]
     },
     "execution_count": 15,
     "metadata": {},
     "output_type": "execute_result"
    }
   ],
   "source": [
    "# proper way of incrementing an attribute\n",
    "whole_foods_bag.add_capacity()\n",
    "whole_foods_bag.capacity"
   ]
  },
  {
   "cell_type": "markdown",
   "metadata": {},
   "source": [
    "##### In-Class Exercise #3 - Add a method that takes in three parameters of year, doors and seats and prints out a formatted print statement with make, model, year, seats, and doors"
   ]
  },
  {
   "cell_type": "code",
   "execution_count": 25,
   "metadata": {},
   "outputs": [
    {
     "name": "stdout",
     "output_type": "stream",
     "text": [
      "Your car is a: VW Touareg 2014 with 5 seats and 4 doors\n"
     ]
    }
   ],
   "source": [
    "class Car():\n",
    "    \n",
    "    def __init__(self,make):\n",
    "        self.make = make\n",
    "    \n",
    "    def specs(self,model,year,seats,doors):\n",
    "        self.model = model\n",
    "        self.year = year\n",
    "        self.seats = seats\n",
    "        self.doors = doors\n",
    "        \n",
    "    def display_car(self):\n",
    "        print(f\"Your car is a: {self.make} {self.model} {self.year} with {self.seats} seats and {self.doors} doors\")\n",
    "    \n",
    "    \n",
    "\n",
    "mycar = Car('VW')\n",
    "mycar.specs('Touareg',2014,5,4)\n",
    "mycar.display_car()"
   ]
  },
  {
   "cell_type": "markdown",
   "metadata": {},
   "source": [
    "## Inheritance <br>\n",
    "<p>You can create a child-parent relationship between two classes by using inheritance. What this allows you to do is have overriding methods, but also inherit traits from the parent class. Think of it as an actual parent and child, the child will inherit the parent's genes, as will the classes in OOP</p>"
   ]
  },
  {
   "cell_type": "markdown",
   "metadata": {},
   "source": [
    "##### Syntax for Inheriting from a Parent Class"
   ]
  },
  {
   "cell_type": "code",
   "execution_count": 26,
   "metadata": {},
   "outputs": [
    {
     "name": "stdout",
     "output_type": "stream",
     "text": [
      "some random/generic sound\n",
      "This dog is Black and his name is Max\n"
     ]
    }
   ],
   "source": [
    "class Animal():\n",
    "    acceleration = 9.8\n",
    "    \n",
    "    def __init__(self,name,species,legs = 4):\n",
    "        self.name = name\n",
    "        self.species = species\n",
    "        self.legs = legs\n",
    "        \n",
    "    def make_sound(self):\n",
    "        print('some random/generic sound')\n",
    "        \n",
    "class Dog(Animal):\n",
    "    speed = 15\n",
    "    \n",
    "    def __init__(self,name,species,color,legs = 4): # params we want to use\n",
    "        Animal.__init__(self,name,species,legs) # params we inherit\n",
    "        self.color = color\n",
    "        \n",
    "    def make_sound(self):\n",
    "        print('Woof')\n",
    "        \n",
    "    def dog_info(self):\n",
    "        print(f\"This dog is {self.color} and his name is {self.name}\")\n",
    "        \n",
    "feline = Animal('Fat Cat','Feline')\n",
    "feline.make_sound()\n",
    "\n",
    "dog = Dog('Max','Canine','Black')\n",
    "dog.dog_info()"
   ]
  },
  {
   "cell_type": "markdown",
   "metadata": {},
   "source": [
    "##### The \\__init\\__() Method for a Child Class - super()"
   ]
  },
  {
   "cell_type": "code",
   "execution_count": null,
   "metadata": {
    "scrolled": true
   },
   "outputs": [],
   "source": [
    "# from above instead of doing Animal.__init__ i can do super().__init__ and dont need to define self in that method"
   ]
  },
  {
   "cell_type": "markdown",
   "metadata": {},
   "source": [
    "##### Defining Attributes and Methods for the Child Class"
   ]
  },
  {
   "cell_type": "code",
   "execution_count": null,
   "metadata": {},
   "outputs": [],
   "source": []
  },
  {
   "cell_type": "markdown",
   "metadata": {},
   "source": [
    "##### Method Overriding"
   ]
  },
  {
   "cell_type": "code",
   "execution_count": null,
   "metadata": {},
   "outputs": [],
   "source": []
  },
  {
   "cell_type": "markdown",
   "metadata": {},
   "source": [
    "##### In-Class Exercise #4 - Create a class 'Ford' that inherits from 'Car' class and initialize it as a Blue Ford Explorer with 4 wheels using the super() method, add a method to car which prints 'this is a car' and create an overriding method in class Ford that prints the information on the car"
   ]
  },
  {
   "cell_type": "code",
   "execution_count": 40,
   "metadata": {},
   "outputs": [
    {
     "name": "stdout",
     "output_type": "stream",
     "text": [
      "Blue Ford Explorer Blue with 4 wheels\n"
     ]
    }
   ],
   "source": [
    "class Car():\n",
    "    \n",
    "    def __init__(self,make,model,color,wheels = 4):\n",
    "        self.wheels = wheels\n",
    "        self.make = make\n",
    "        self.color = color\n",
    "        self.model = model\n",
    "        \n",
    "    def print_car(self):\n",
    "        print('This is a car')\n",
    "        \n",
    "        \n",
    "class Ford(Car):\n",
    "    \n",
    "    def __init__(self,make,model,color,wheels = 4):\n",
    "        super().__init__(make,model,color,wheels)\n",
    "    \n",
    "    def print_car(self):\n",
    "         print(f\"{self.color} {self.make} {self.model} {self.color} with {self.wheels} wheels\")\n",
    "\n",
    "this_car = Ford('Ford','Explorer','Blue')\n",
    "this_car.print_car()\n",
    "\n",
    "\n",
    "\n",
    "        "
   ]
  },
  {
   "cell_type": "markdown",
   "metadata": {},
   "source": [
    "## Classes as Attributes <br>\n",
    "<p>Classes can also be used as attributes within another class. This is useful in situations where you need to keep variables locally stored, instead of globally stored.</p>"
   ]
  },
  {
   "cell_type": "code",
   "execution_count": 42,
   "metadata": {},
   "outputs": [
    {
     "name": "stdout",
     "output_type": "stream",
     "text": [
      "20\n"
     ]
    }
   ],
   "source": [
    "class Battery():\n",
    "    volts = 7.8\n",
    "    \n",
    "    def __init__(self,cells):\n",
    "        self.cells = cells\n",
    "\n",
    "class Car():\n",
    "    \n",
    "    def __init__(self,year,make,model,battery):\n",
    "        self.year = year\n",
    "        self.make = make\n",
    "        self.model = model\n",
    "        self.battery = battery\n",
    "        \n",
    "bat = Battery(20) # give a value of 20 cells\n",
    "\n",
    "tesla = Car(2019,'Tesla','Model X', bat) # battery value is set equal to what bat is assinged to which gives access to the cells param in Battery class\n",
    "\n",
    "print(tesla.battery.cells) # basically calling a class inside of a class"
   ]
  },
  {
   "cell_type": "markdown",
   "metadata": {},
   "source": [
    "# Exercises"
   ]
  },
  {
   "cell_type": "markdown",
   "metadata": {},
   "source": [
    "### Exercise 1 - Turn the shopping cart program from yesterday into an object-oriented program"
   ]
  },
  {
   "cell_type": "code",
   "execution_count": 11,
   "metadata": {},
   "outputs": [
    {
     "name": "stdout",
     "output_type": "stream",
     "text": [
      "Shopping cart:\n",
      "\t['pizza', 'milk', 'oj']\n",
      "Thanks for shopping\n"
     ]
    }
   ],
   "source": [
    "from IPython.display import clear_output \n",
    "# have a class called cart that retains items and has methods to add, remove, and show\n",
    "\n",
    "# step #1: create the cart class\n",
    "class Cart():\n",
    "    # when instantiated, cart object should define empty list for items\n",
    "    def __init__(self,items =[]):\n",
    "        self.items = items\n",
    "    \n",
    "        \n",
    "    # create a method to show cart\n",
    "    def showcart(self):\n",
    "        clear_output()\n",
    "        if self.items == []:\n",
    "            print('Your cart is empty!')\n",
    "        else:\n",
    "            print(f\"Shopping cart:\")\n",
    "            print(f\"\\t{self.items}\")\n",
    "            \n",
    "    # create a method to add to cart\n",
    "    def additem(self):\n",
    "        clear_output()\n",
    "        item = input(\"Item to add: \")\n",
    "        self.items.append(item)\n",
    "        \n",
    "    # create a method to remove from cart\n",
    "    def remove(self):\n",
    "        clear_output()\n",
    "        item = input(\"Item to remove: \")\n",
    "        try:\n",
    "            self.items.remove(item)\n",
    "        except:\n",
    "            print(f\"{self.items} not in your cart\")\n",
    "\n",
    "        \n",
    "# create instance of cart object with empty list        \n",
    "shopping_cart = Cart()\n",
    "print('Welcome to ABC Grocery!\\n\\tPlease grab a cart!')\n",
    "# start the while loop until user quits\n",
    "while True:\n",
    "\n",
    "    # ask for input\n",
    "    ask = input(\"Do you want to: 'add', 'remove', 'show', or 'stop'?: \")\n",
    "    \n",
    "    # base case\n",
    "    \n",
    "    # ask if they would like to add, remove, show, perform steps using cart methods\n",
    "    if ask.lower() =='stop':\n",
    "        shopping_cart.showcart()\n",
    "        print(\"Thanks for shopping\")\n",
    "        break\n",
    "    elif ask.lower() == 'add':\n",
    "        shopping_cart.additem()\n",
    "    elif ask.lower() == 'remove':\n",
    "        shopping_cart.remove()\n",
    "    elif ask.lower() == 'show':\n",
    "        shopping_cart.showcart()\n",
    "    else:\n",
    "        clear_output()\n",
    "        print('Selection not understood!')\n"
   ]
  }
 ],
 "metadata": {
  "kernelspec": {
   "display_name": "Python 3",
   "language": "python",
   "name": "python3"
  },
  "language_info": {
   "codemirror_mode": {
    "name": "ipython",
    "version": 3
   },
   "file_extension": ".py",
   "mimetype": "text/x-python",
   "name": "python",
   "nbconvert_exporter": "python",
   "pygments_lexer": "ipython3",
   "version": "3.7.4"
  }
 },
 "nbformat": 4,
 "nbformat_minor": 2
}
